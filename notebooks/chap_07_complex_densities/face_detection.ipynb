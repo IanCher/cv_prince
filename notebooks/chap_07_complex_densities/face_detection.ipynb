{
 "cells": [
  {
   "cell_type": "code",
   "execution_count": null,
   "metadata": {},
   "outputs": [],
   "source": [
    "import os\n",
    "from pathlib import Path \n",
    "import sys\n",
    "import matplotlib.pyplot as plt\n",
    "import numpy as np\n",
    "\n",
    "sys.path.insert(0, str(Path().absolute().parents[1]))\n",
    "from experiments.datasets.faces import FaceDataset, FaceLabel\n",
    "from cv_prince.chap_07_complex_densities.gmm import ExpectationMaximisationGMM, GMMSampler\n",
    "from cv_prince.chap_07_complex_densities.gmm_face_detection import GMMFaceDetector"
   ]
  },
  {
   "cell_type": "code",
   "execution_count": null,
   "metadata": {},
   "outputs": [],
   "source": [
    "root_data_dir = os.environ.get(\"DATASETS\")\n",
    "data_dir = Path(root_data_dir) / \"FDDB\"\n",
    "faces_dir = data_dir / \"originalPics\"\n",
    "fold_dir = data_dir / \"FDDB-folds\"\n",
    "\n",
    "num_folds = len(list(fold_dir.glob(\"*ellipseList.txt\")))"
   ]
  },
  {
   "cell_type": "code",
   "execution_count": null,
   "metadata": {},
   "outputs": [],
   "source": [
    "test_fold = [10]\n",
    "val_folds = [8, 9]\n",
    "train_folds = [1, 2, 3, 4, 5, 6, 7]"
   ]
  },
  {
   "cell_type": "code",
   "execution_count": null,
   "metadata": {},
   "outputs": [],
   "source": [
    "face_dataset = FaceDataset(annotation_dir=fold_dir, imgs_dir=faces_dir)\n",
    "print(len(face_dataset))\n",
    "print(face_dataset.num_face_imgs)"
   ]
  },
  {
   "cell_type": "code",
   "execution_count": null,
   "metadata": {},
   "outputs": [],
   "source": [
    "images_to_keep = np.isin(face_dataset.images_to_fold, train_folds)\n",
    "images_to_keep = np.argwhere(images_to_keep).flatten()\n",
    "\n",
    "faces_to_keep = np.concat([face_dataset.image_to_face_data[idx] for idx in images_to_keep])\n",
    "others_to_keep = np.concat(\n",
    "    [\n",
    "        face_dataset.image_to_non_face_data[idx] for idx in images_to_keep\n",
    "        if len(face_dataset.image_to_non_face_data[idx]) > 0\n",
    "    ]\n",
    ")"
   ]
  },
  {
   "cell_type": "code",
   "execution_count": null,
   "metadata": {},
   "outputs": [],
   "source": [
    "train_faces_arr = face_dataset.faces_arr[faces_to_keep, :]\n",
    "train_non_faces_arr = face_dataset.non_faces_arr[others_to_keep, :]\n",
    "\n",
    "train_data = np.concatenate(\n",
    "    [train_faces_arr, train_non_faces_arr]\n",
    ")\n",
    "train_labels = np.array(\n",
    "    len(train_faces_arr) * [FaceLabel.face] + len(train_non_faces_arr) * [FaceLabel.other]\n",
    ")"
   ]
  },
  {
   "cell_type": "code",
   "execution_count": null,
   "metadata": {},
   "outputs": [],
   "source": [
    "OVERWRITE = False\n",
    "\n",
    "face_detector_file = Path(\"face_detector.pkl\")\n",
    "face_detector = GMMFaceDetector()\n",
    "\n",
    "if OVERWRITE or not face_detector_file.exists():\n",
    "    face_detector.fit(train_data, train_labels)\n",
    "    face_detector.save(face_detector_file)\n",
    "else:\n",
    "    face_detector.load(face_detector_file)"
   ]
  },
  {
   "cell_type": "code",
   "execution_count": null,
   "metadata": {},
   "outputs": [],
   "source": [
    "images_to_keep = np.isin(face_dataset.images_to_fold, val_folds)\n",
    "images_to_keep = np.argwhere(images_to_keep).flatten()\n",
    "\n",
    "faces_to_keep = np.concat([face_dataset.image_to_face_data[idx] for idx in images_to_keep])\n",
    "others_to_keep = np.concat(\n",
    "    [\n",
    "        face_dataset.image_to_non_face_data[idx] for idx in images_to_keep\n",
    "        if len(face_dataset.image_to_non_face_data[idx]) > 0\n",
    "    ]\n",
    ")\n",
    "\n",
    "val_faces_arr = face_dataset.faces_arr[faces_to_keep, :]\n",
    "val_others_arr = face_dataset.non_faces_arr[others_to_keep, :]\n",
    "\n",
    "val_data = np.concatenate(\n",
    "    [val_faces_arr, val_others_arr]\n",
    ")\n",
    "val_labels = np.array(\n",
    "    len(val_faces_arr) * [FaceLabel.face] + len(val_others_arr) * [FaceLabel.other]\n",
    ")"
   ]
  },
  {
   "cell_type": "code",
   "execution_count": null,
   "metadata": {},
   "outputs": [],
   "source": [
    "val_predicts = face_detector.predict(val_data)"
   ]
  },
  {
   "cell_type": "code",
   "execution_count": null,
   "metadata": {},
   "outputs": [],
   "source": [
    "confusion = val_labels == val_predicts\n",
    "\n",
    "accuracy = confusion.sum() / len(val_data)\n",
    "face_tpr = confusion[val_labels == FaceLabel.face].sum() / len(val_faces_arr)\n",
    "face_tnr = confusion[val_labels == FaceLabel.other].sum() / len(val_others_arr)\n",
    "\n",
    "print(f\"Accuracy = {accuracy:.2%}\")\n",
    "print(f\"Face TPR = {face_tpr:.2%}\")\n",
    "print(f\"Face TNR = {face_tnr:.2%}\")"
   ]
  },
  {
   "cell_type": "code",
   "execution_count": null,
   "metadata": {},
   "outputs": [],
   "source": [
    "gmm_faces = face_detector.gmm_faces\n",
    "gmm_others = face_detector.gmm_others\n",
    "\n",
    "fig, axes = plt.subplots(2, 10, figsize=(15, 3))\n",
    "\n",
    "for i in range(10):\n",
    "    axes[0, i].imshow(gmm_faces.gaussians[i].mean.reshape((24, 24)), cmap=\"gray\")\n",
    "    axes[1, i].imshow(gmm_others.gaussians[i].mean.reshape((24, 24)), cmap=\"gray\")\n",
    "\n",
    "    axes[0,i].set_title(f\"{gmm_faces.weights[i]:.3f}\")\n",
    "    axes[0,i].set_axis_off()\n",
    "    axes[1,i].set_title(f\"{gmm_others.weights[i]:.3f}\")\n",
    "    axes[1,i].set_axis_off()"
   ]
  }
 ],
 "metadata": {
  "kernelspec": {
   "display_name": "cv-prince-YM7UBAsG-py3.12",
   "language": "python",
   "name": "python3"
  },
  "language_info": {
   "codemirror_mode": {
    "name": "ipython",
    "version": 3
   },
   "file_extension": ".py",
   "mimetype": "text/x-python",
   "name": "python",
   "nbconvert_exporter": "python",
   "pygments_lexer": "ipython3",
   "version": "3.12.8"
  }
 },
 "nbformat": 4,
 "nbformat_minor": 2
}
