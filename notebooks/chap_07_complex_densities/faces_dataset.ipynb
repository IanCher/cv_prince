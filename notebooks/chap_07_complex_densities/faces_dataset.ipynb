{
 "cells": [
  {
   "cell_type": "code",
   "execution_count": null,
   "metadata": {},
   "outputs": [],
   "source": [
    "import os\n",
    "from pathlib import Path\n",
    "import sys\n",
    "import matplotlib.pyplot as plt\n",
    "import numpy as np\n",
    "\n",
    "sys.path.insert(0, str(Path().absolute().parents[1]))\n",
    "from experiments.datasets.faces.dataset import FaceDataset"
   ]
  },
  {
   "cell_type": "code",
   "execution_count": null,
   "metadata": {},
   "outputs": [],
   "source": [
    "root_data_dir = os.environ.get(\"DATASETS\")\n",
    "data_dir = Path(root_data_dir) / \"FDDB\"\n",
    "faces_dir = data_dir / \"originalPics\"\n",
    "fold_dir = data_dir / \"FDDB-folds\"\n",
    "\n",
    "num_folds = len(list(fold_dir.glob(\"*ellipseList.txt\")))"
   ]
  },
  {
   "cell_type": "code",
   "execution_count": null,
   "metadata": {},
   "outputs": [],
   "source": [
    "face_dataset = FaceDataset(annotations_dir=fold_dir, imgs_dir=faces_dir)\n",
    "print(len(face_dataset))\n",
    "print(face_dataset.num_face_imgs)\n",
    "print(face_dataset.num_other_imgs)"
   ]
  },
  {
   "cell_type": "code",
   "execution_count": null,
   "metadata": {},
   "outputs": [],
   "source": [
    "img_with_most_faces = face_dataset.face_images[0]\n",
    "for face_image in face_dataset.face_images[1:]:\n",
    "    if face_image.num_faces > img_with_most_faces.num_faces:\n",
    "        img_with_most_faces = face_image\n",
    "\n",
    "k = 5\n",
    "img_with_k_faces = None\n",
    "for face_image in face_dataset.face_images:\n",
    "    if face_image.num_faces == k:\n",
    "        img_with_k_faces = face_image\n",
    "        break"
   ]
  },
  {
   "cell_type": "code",
   "execution_count": null,
   "metadata": {},
   "outputs": [],
   "source": [
    "face_image = img_with_most_faces  # img_with_k_faces\n",
    "img = face_image.show_annotated_image()\n",
    "\n",
    "plt.imshow(img)\n",
    "plt.gca().set_axis_off()"
   ]
  },
  {
   "cell_type": "code",
   "execution_count": null,
   "metadata": {},
   "outputs": [],
   "source": [
    "num_instances = None\n",
    "other_imgs = face_image.crop_all_others_img()\n",
    "\n",
    "num_cols = 6\n",
    "num_rows = int(np.ceil(len(other_imgs) / num_cols))\n",
    "\n",
    "fig, axes = plt.subplots(num_rows, num_cols, figsize=(10, num_rows * 10 / num_cols))\n",
    "\n",
    "for ax, non_face_img in zip(axes.flatten(), other_imgs):\n",
    "    ax.imshow(non_face_img)\n",
    "    ax.set_axis_off()\n",
    "\n",
    "num_img_in_last_row = len(other_imgs) % num_cols\n",
    "if num_img_in_last_row > 0:\n",
    "    for i in range(num_cols - num_img_in_last_row):\n",
    "        fig.delaxes(axes.flat[-i - 1])\n",
    "\n",
    "fig.tight_layout()"
   ]
  },
  {
   "cell_type": "code",
   "execution_count": null,
   "metadata": {},
   "outputs": [],
   "source": [
    "num_faces = face_image.num_faces\n",
    "\n",
    "num_rows = int(np.ceil(num_faces / num_cols))\n",
    "\n",
    "fig, axes = plt.subplots(num_rows, num_cols, figsize=(10, num_rows * 10 / num_cols))\n",
    "\n",
    "for ax, cropped_face in zip(axes.flatten(), face_image.crop_all_faces_img()):\n",
    "    ax.imshow(cropped_face, cmap=\"gray\")\n",
    "    ax.set_aspect(\"equal\")\n",
    "    ax.set_axis_off()\n",
    "\n",
    "num_img_in_last_row = num_faces % num_cols\n",
    "if num_img_in_last_row > 0:\n",
    "    for i in range(num_cols - num_img_in_last_row):\n",
    "        fig.delaxes(axes.flat[-i - 1])\n",
    "\n",
    "fig.tight_layout()"
   ]
  }
 ],
 "metadata": {
  "kernelspec": {
   "display_name": "cv-prince-YM7UBAsG-py3.12",
   "language": "python",
   "name": "python3"
  },
  "language_info": {
   "codemirror_mode": {
    "name": "ipython",
    "version": 3
   },
   "file_extension": ".py",
   "mimetype": "text/x-python",
   "name": "python",
   "nbconvert_exporter": "python",
   "pygments_lexer": "ipython3",
   "version": "3.12.8"
  }
 },
 "nbformat": 4,
 "nbformat_minor": 2
}
