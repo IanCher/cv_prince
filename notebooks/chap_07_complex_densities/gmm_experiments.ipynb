{
 "cells": [
  {
   "cell_type": "code",
   "execution_count": null,
   "metadata": {},
   "outputs": [],
   "source": [
    "import numpy as np\n",
    "import matplotlib.pyplot as plt\n",
    "import sys \n",
    "from pathlib import Path\n",
    "\n",
    "sys.path.insert(0, str(Path().absolute().parents[1]))\n",
    "\n",
    "from cv_prince.chap_07_complex_densities.gaussians import Gaussian\n",
    "from cv_prince.chap_07_complex_densities.gmm import GMMSampler, ExpectationMaximisationGMM\n",
    "from notebooks.utils import create_cov_based_on_angle_and_axis_scale"
   ]
  },
  {
   "cell_type": "code",
   "execution_count": null,
   "metadata": {},
   "outputs": [],
   "source": [
    "# GMM Component 1\n",
    "mean_1 = (1.0, 4.0)\n",
    "cov_1 = create_cov_based_on_angle_and_axis_scale(30, (1, 1/8))\n",
    "gauss_params_1 = Gaussian(mean=mean_1, cov=cov_1)\n",
    "\n",
    "# GMM Component 2\n",
    "mean_2 = (2.0, 2.0)\n",
    "cov_2 = create_cov_based_on_angle_and_axis_scale(0, (0.5, 0.5))\n",
    "gauss_params_2 = Gaussian(mean=mean_2, cov=cov_2)\n",
    "\n",
    "# GMM Component 3\n",
    "mean_3 = (4.0, 3.0)\n",
    "cov_3 = create_cov_based_on_angle_and_axis_scale(-60, (1, 1/4))\n",
    "gauss_params_3 = Gaussian(mean=mean_3, cov=cov_3)\n",
    "\n",
    "# GMM\n",
    "weights = [0.6, 0.3, 0.1]\n",
    "gaussians_params = [gauss_params_1, gauss_params_2, gauss_params_3]\n",
    "gmm_sampler = GMMSampler(gaussians=gaussians_params, weights=weights)\n",
    "\n",
    "gmm_samples = gmm_sampler.sample(n=10000, seed=12345)\n",
    "all_samples = np.concatenate(gmm_samples)"
   ]
  },
  {
   "cell_type": "code",
   "execution_count": null,
   "metadata": {},
   "outputs": [],
   "source": [
    "em_fitter = ExpectationMaximisationGMM(num_components=3, seed=12345)\n",
    "em_fitter.fit(all_samples)\n",
    "predicted_components = em_fitter.predict(all_samples)"
   ]
  },
  {
   "cell_type": "code",
   "execution_count": null,
   "metadata": {},
   "outputs": [],
   "source": [
    "fig, axes = plt.subplots(1, 3, figsize=(15, 5))\n",
    "for i in range(em_fitter.num_components):\n",
    "    axes[0].scatter(gmm_samples[i][:, 0], gmm_samples[i][:, 1], s=1, color=\"gray\")\n",
    "    axes[1].scatter(gmm_samples[i][:, 0], gmm_samples[i][:, 1], s=1)\n",
    "\n",
    "    predicted_i = predicted_components == i\n",
    "    axes[2].scatter(all_samples[predicted_i, 0], all_samples[predicted_i, 1], s=1)\n",
    "\n",
    "axes[0].set_title(\"Random samples from GMM\")\n",
    "axes[1].set_title(\"Ground truth separation of data\")\n",
    "axes[2].set_title(\"Predicted separation of data\")\n",
    "for ax in axes:\n",
    "    ax.set_aspect(\"equal\")"
   ]
  }
 ],
 "metadata": {
  "kernelspec": {
   "display_name": "cv-prince-YM7UBAsG-py3.12",
   "language": "python",
   "name": "python3"
  },
  "language_info": {
   "codemirror_mode": {
    "name": "ipython",
    "version": 3
   },
   "file_extension": ".py",
   "mimetype": "text/x-python",
   "name": "python",
   "nbconvert_exporter": "python",
   "pygments_lexer": "ipython3",
   "version": "3.12.8"
  }
 },
 "nbformat": 4,
 "nbformat_minor": 2
}
