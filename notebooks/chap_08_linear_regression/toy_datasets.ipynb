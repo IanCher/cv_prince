{
 "cells": [
  {
   "cell_type": "code",
   "execution_count": null,
   "metadata": {},
   "outputs": [],
   "source": [
    "from pathlib import Path\n",
    "import sys\n",
    "import matplotlib.pyplot as plt\n",
    "import numpy as np \n",
    "from scipy.optimize import minimize_scalar\n",
    "\n",
    "if str(Path().absolute().parents[1]) not in sys.path:\n",
    "    sys.path.insert(0, str(Path().absolute().parents[1]))\n",
    "from cv_prince.chap_08_linear_regression.ml_linear_regression import LinearRegression\n",
    "from cv_prince.chap_08_linear_regression.bayes_linear_regression import BayesLinearRegression\n",
    "from cv_prince.chap_08_linear_regression.non_linear_regression import NonLinearRegression\n",
    "from cv_prince.chap_08_linear_regression.gauss_process_regression import GaussProcessRegression\n",
    "from cv_prince.chap_08_linear_regression.sparse_linear_regression import SparseLinearRegression\n",
    "from cv_prince.chap_08_linear_regression.relevance_vector_regression import RelevanceVectorRegression\n",
    "\n",
    "for path in sys.path:\n",
    "    print(path)"
   ]
  },
  {
   "cell_type": "code",
   "execution_count": null,
   "metadata": {},
   "outputs": [],
   "source": [
    "def create_noisy_linear(direction,\n",
    "    offset: np.ndarray,\n",
    "    nsamples: int,\n",
    "    xrange: np.ndarray,\n",
    "    inlier_noise_std: float,\n",
    "    outlier_rate: float,\n",
    "    rng: np.random.Generator\n",
    ") -> tuple[np.ndarray, np.ndarray]:\n",
    "    xmin, xmax = xrange\n",
    "\n",
    "    samples_x = rng.uniform(xmin, xmax, nsamples)\n",
    "    samples_x.sort()\n",
    "\n",
    "    samples_y = direction * samples_x + offset + rng.normal(0, inlier_noise_std, nsamples)\n",
    "\n",
    "    outlier_perturb = rng.uniform(200, 500, nsamples) * rng.choice([-1, 1], nsamples)\n",
    "    samples_y += rng.binomial(1, outlier_rate, nsamples) * outlier_perturb\n",
    "\n",
    "    return samples_x, samples_y"
   ]
  },
  {
   "cell_type": "markdown",
   "metadata": {},
   "source": [
    "### Maximum Likelihood Linear Regression"
   ]
  },
  {
   "cell_type": "code",
   "execution_count": null,
   "metadata": {},
   "outputs": [],
   "source": [
    "nsamples = 100\n",
    "outlier_rate = 0.0\n",
    "inlier_noise_std = 50.0\n",
    "\n",
    "direction = 2.0\n",
    "offset = 3.0\n",
    "\n",
    "xmin = -100\n",
    "xmax = 100\n",
    "\n",
    "rng = np.random.default_rng(seed=12345)\n",
    "\n",
    "samples_x, samples_y = create_noisy_linear(\n",
    "    direction,\n",
    "    offset,\n",
    "    nsamples,\n",
    "    [xmin, xmax],\n",
    "    inlier_noise_std,\n",
    "    outlier_rate,\n",
    "    rng\n",
    ")"
   ]
  },
  {
   "cell_type": "code",
   "execution_count": null,
   "metadata": {},
   "outputs": [],
   "source": [
    "linreg = LinearRegression()\n",
    "linreg.fit(samples_x, samples_y)\n",
    "\n",
    "xrange = np.array([samples_x.min(), samples_x.max()])\n",
    "yrange = np.array([samples_y.min(), samples_y.max()])\n",
    "\n",
    "grid_size = 1000\n",
    "grid_x, grid_y = np.meshgrid(\n",
    "    np.linspace(xrange[0] , xrange[1] , grid_size), \n",
    "    np.linspace(yrange[0] , yrange[1] , grid_size),\n",
    "    indexing=\"xy\"\n",
    ")\n",
    "\n",
    "likelihood = linreg.likelihood(grid_x.flatten(), grid_y.flatten())\n",
    "likelihood = likelihood.reshape((grid_size, grid_size))"
   ]
  },
  {
   "cell_type": "code",
   "execution_count": null,
   "metadata": {},
   "outputs": [],
   "source": [
    "fig, ax = plt.subplots(1, 1)\n",
    "ax.scatter(samples_x, samples_y, color=\"b\")\n",
    "ax.plot(xrange, linreg.predict(xrange), color=\"red\")\n",
    "ax.imshow(\n",
    "    likelihood, \n",
    "    extent=xrange.tolist() + yrange.tolist(),  \n",
    "    origin='lower', \n",
    "    aspect='auto',\n",
    "    cmap=\"hot\"\n",
    ")\n",
    "fig.tight_layout()"
   ]
  },
  {
   "cell_type": "markdown",
   "metadata": {},
   "source": [
    "### Bayesian Linear Regression"
   ]
  },
  {
   "cell_type": "code",
   "execution_count": null,
   "metadata": {},
   "outputs": [],
   "source": [
    "nsamples = 20\n",
    "outlier_rate = 0.1\n",
    "inlier_noise_std = 10.0\n",
    "\n",
    "direction = 2.0\n",
    "offset = 3.0\n",
    "\n",
    "xrange = np.array([-6, 6])\n",
    "samples_x = np.array([-3.9, -0.86, -0.35, -0.24, 0.1, 0.9, 3])\n",
    "samples_y = np.array([4, 2, 0.5, -2, 0.9, 0.6, 0.25])"
   ]
  },
  {
   "cell_type": "code",
   "execution_count": null,
   "metadata": {},
   "outputs": [],
   "source": [
    "ml_linreg = LinearRegression()\n",
    "ml_linreg.fit(samples_x, samples_y)"
   ]
  },
  {
   "cell_type": "code",
   "execution_count": null,
   "metadata": {},
   "outputs": [],
   "source": [
    "sigma_p = 100\n",
    "bayes_linreg = BayesLinearRegression(sigma_prior=sigma_p)\n",
    "bayes_linreg.fit(samples_x, samples_y)"
   ]
  },
  {
   "cell_type": "code",
   "execution_count": null,
   "metadata": {},
   "outputs": [],
   "source": [
    "xrange = np.array([-6, 6])\n",
    "yrange = np.array([samples_y.min()-2, samples_y.max()+2])\n",
    "\n",
    "grid_size = 1000\n",
    "grid_x, grid_y = np.meshgrid(\n",
    "    np.linspace(xrange[0] , xrange[1] , grid_size), \n",
    "    np.linspace(yrange[0] , yrange[1] , grid_size),\n",
    "    indexing=\"xy\"\n",
    ")\n",
    "\n",
    "bayes_likelihood = bayes_linreg.likelihood(grid_x.flatten(), grid_y.flatten())\n",
    "bayes_likelihood = bayes_likelihood.reshape((grid_size, grid_size))\n",
    "\n",
    "ml_likelihood = ml_linreg.likelihood(grid_x.flatten(), grid_y.flatten())\n",
    "ml_likelihood = ml_likelihood.reshape((grid_size, grid_size))"
   ]
  },
  {
   "cell_type": "code",
   "execution_count": null,
   "metadata": {},
   "outputs": [],
   "source": [
    "fig, ax = plt.subplots(1, 2, figsize=[15, 7])\n",
    "\n",
    "ax[0].scatter(samples_x, samples_y, color=\"b\")\n",
    "ax[0].plot(xrange, ml_linreg.predict(xrange), color=\"red\")\n",
    "ax[0].imshow(\n",
    "    ml_likelihood, \n",
    "    extent=[xrange[0], xrange[1], samples_y.min()-2, samples_y.max()+2],\n",
    "    origin='lower', \n",
    "    aspect='auto',\n",
    "    cmap=\"hot\"\n",
    ")\n",
    "ax[0].set_title(\"ML\")\n",
    "\n",
    "ax[1].scatter(samples_x, samples_y, color=\"b\")\n",
    "ax[1].plot(xrange, bayes_linreg.predict(xrange), color=\"red\")\n",
    "ax[1].imshow(\n",
    "    bayes_likelihood, \n",
    "    extent=[xrange[0], xrange[1], samples_y.min()-2, samples_y.max()+2],  \n",
    "    origin='lower', \n",
    "    aspect='auto',\n",
    "    cmap=\"hot\"\n",
    ")\n",
    "ax[1].set_title(\"Bayes\")\n",
    "\n",
    "fig.tight_layout()"
   ]
  },
  {
   "cell_type": "markdown",
   "metadata": {},
   "source": [
    "### Non Linear Regression"
   ]
  },
  {
   "cell_type": "code",
   "execution_count": null,
   "metadata": {},
   "outputs": [],
   "source": [
    "gt_non_lin_func = lambda x: 1.5 * np.sin(x ** 2) + np.cos(x ** 3)\n",
    "\n",
    "xmin, xmax = 0, 3.05\n",
    "xrange = np.linspace(xmin, xmax, 1000)\n",
    "\n",
    "rng = np.random.default_rng(seed=12345)\n",
    "nsamples = 50\n",
    "samples_x = rng.uniform(xmin, 0.75*xmax, int(0.8*nsamples))\n",
    "samples_x = np.concatenate(\n",
    "    [samples_x, rng.uniform(0.75*xmax, xmax, nsamples - int(0.8*nsamples))]\n",
    ")\n",
    "samples_x.sort()\n",
    "\n",
    "samples_y = gt_non_lin_func(samples_x)\n",
    "samples_y += rng.normal(0, 0.5, len(samples_y))"
   ]
  },
  {
   "cell_type": "code",
   "execution_count": null,
   "metadata": {},
   "outputs": [],
   "source": [
    "non_linreg = NonLinearRegression(\n",
    "    alphas=np.linspace(0, 3, 10),\n",
    "    lam=0.5\n",
    ")\n",
    "non_linreg.fit(samples_x, samples_y)\n",
    "\n",
    "xrange = np.array([-0.1, 3.1])\n",
    "yrange = np.array([-3.1, 2.1])\n",
    "\n",
    "grid_size = 1000\n",
    "grid_x, grid_y = np.meshgrid(\n",
    "    np.linspace(xrange[0] , xrange[1] , grid_size), \n",
    "    np.linspace(yrange[0] , yrange[1] , grid_size),\n",
    "    indexing=\"xy\"\n",
    ")\n",
    "\n",
    "non_lin_likelihood = non_linreg.likelihood(grid_x.flatten(), grid_y.flatten())\n",
    "non_lin_likelihood = non_lin_likelihood.reshape((grid_size, grid_size))"
   ]
  },
  {
   "cell_type": "code",
   "execution_count": null,
   "metadata": {},
   "outputs": [],
   "source": [
    "fig, ax = plt.subplots(1, 1)\n",
    "ax.scatter(samples_x, samples_y, color=\"b\")\n",
    "ax.plot(\n",
    "    np.linspace(xrange[0], xrange[1], 1000),\n",
    "    non_linreg.predict(np.linspace(xrange[0], xrange[1], 1000)),\n",
    "    c=\"r\"\n",
    ")\n",
    "ax.imshow(\n",
    "    non_lin_likelihood, \n",
    "    extent=xrange.tolist() + yrange.tolist(),  \n",
    "    origin='lower', \n",
    "    aspect='auto',\n",
    "    cmap=\"hot\"\n",
    ")\n",
    "fig.tight_layout()"
   ]
  },
  {
   "cell_type": "markdown",
   "metadata": {},
   "source": [
    "### Bayesian Non Linear Regression"
   ]
  },
  {
   "cell_type": "code",
   "execution_count": null,
   "metadata": {},
   "outputs": [],
   "source": [
    "gauss_process_reg = GaussProcessRegression(lam=np.sqrt(0.1), sigma_prior=1000)\n",
    "gauss_process_reg.fit(samples_x, samples_y)"
   ]
  },
  {
   "cell_type": "code",
   "execution_count": null,
   "metadata": {},
   "outputs": [],
   "source": [
    "xrange = np.array([-0.1, 3.1])\n",
    "yrange = np.array([-3.1, 2.1])\n",
    "\n",
    "grid_size = 1000\n",
    "grid_x, grid_y = np.meshgrid(\n",
    "    np.linspace(xrange[0] , xrange[1] , grid_size), \n",
    "    np.linspace(yrange[0] , yrange[1] , grid_size),\n",
    "    indexing=\"xy\"\n",
    ")\n",
    "\n",
    "gauss_process_likelihood = gauss_process_reg.likelihood(\n",
    "    grid_x.flatten(), grid_y.flatten()\n",
    ")\n",
    "gauss_process_likelihood = gauss_process_likelihood.reshape(grid_size, grid_size)"
   ]
  },
  {
   "cell_type": "code",
   "execution_count": null,
   "metadata": {},
   "outputs": [],
   "source": [
    "fig, ax = plt.subplots(1, 2, figsize=[15, 7])\n",
    "\n",
    "ax[0].scatter(samples_x, samples_y, color=\"b\")\n",
    "ax[0].plot(\n",
    "    np.linspace(xrange[0], xrange[1], 1000),\n",
    "    non_linreg.predict(np.linspace(xrange[0], xrange[1], 1000)),\n",
    "    c=\"r\"\n",
    ")\n",
    "ax[0].imshow(\n",
    "    non_lin_likelihood, \n",
    "    extent=xrange.tolist() + yrange.tolist(),  \n",
    "    origin='lower', \n",
    "    aspect='auto',\n",
    "    cmap=\"hot\"\n",
    ")\n",
    "ax[0].set_title(\"Maximum Likelihood Non Lin\")\n",
    "\n",
    "ax[1].scatter(samples_x, samples_y, c=\"blue\")\n",
    "ax[1].plot(\n",
    "    np.linspace(xrange[0], xrange[1], 1000),\n",
    "    gauss_process_reg.predict(np.linspace(xrange[0], xrange[1], 1000)),\n",
    "    c=\"r\"\n",
    ")\n",
    "ax[1].imshow(\n",
    "    gauss_process_likelihood, \n",
    "    extent=xrange.tolist() + yrange.tolist(),\n",
    "    origin='lower', \n",
    "    aspect='auto',\n",
    "    cmap=\"hot\"\n",
    ")\n",
    "ax[1].set_title(\"Gaussian Process (Bayes Non Lin)\")\n",
    "fig.tight_layout()"
   ]
  },
  {
   "cell_type": "markdown",
   "metadata": {},
   "source": [
    "### Sparse Linear Regression"
   ]
  },
  {
   "cell_type": "code",
   "execution_count": null,
   "metadata": {},
   "outputs": [],
   "source": [
    "nsamples = 50\n",
    "outlier_rate = 0.0\n",
    "inlier_noise_std = 0.25\n",
    "\n",
    "direction_3d = np.array([5, 1, 2])\n",
    "direction = 0.5\n",
    "offset = 0.75\n",
    "\n",
    "xmin = 0\n",
    "xmax = 3.0\n",
    "xrange = np.array([xmin, xmax])\n",
    "\n",
    "rng = np.random.default_rng(seed=12345)\n",
    "\n",
    "samples_x, samples_y = create_noisy_linear(\n",
    "    direction,\n",
    "    offset,\n",
    "    nsamples,\n",
    "    xrange,\n",
    "    inlier_noise_std,\n",
    "    outlier_rate,\n",
    "    rng\n",
    ")\n",
    "\n",
    "samples = np.stack([samples_x, samples_y], axis=0)\n",
    "values = samples.T @ direction_3d[:-1] + direction_3d[-1] \n",
    "values += rng.normal(0, 1.0, nsamples)"
   ]
  },
  {
   "cell_type": "code",
   "execution_count": null,
   "metadata": {},
   "outputs": [],
   "source": [
    "sparse_linreg = SparseLinearRegression(nu=1e-4, thresh=1.0)\n",
    "sparse_linreg.fit(samples, values)"
   ]
  },
  {
   "cell_type": "code",
   "execution_count": null,
   "metadata": {},
   "outputs": [],
   "source": [
    "xrange = np.array([0, 3])\n",
    "yrange = np.array([0, 3])\n",
    "\n",
    "grid_size = 1000\n",
    "grid_x, grid_y = np.meshgrid(\n",
    "    np.linspace(xrange[0], xrange[1], 1000),\n",
    "    np.linspace(yrange[0], yrange[1], 1000),\n",
    "    indexing=\"xy\"\n",
    ")\n",
    "grid = np.stack([grid_x.flatten(), grid_y.flatten()], axis=0)\n",
    "\n",
    "groundtruth_values = grid.T @ direction_3d[:-1] + direction_3d[-1]\n",
    "groundtruth_values = groundtruth_values.reshape((grid_size, grid_size))\n",
    "\n",
    "predicted_values = sparse_linreg.predict(grid)\n",
    "predicted_values = predicted_values.reshape((grid_size, grid_size))"
   ]
  },
  {
   "cell_type": "code",
   "execution_count": null,
   "metadata": {},
   "outputs": [],
   "source": [
    "fig, ax = plt.subplots(1, 2, figsize=[15, 7])\n",
    "\n",
    "vmin=min(groundtruth_values.min(), values.min())\n",
    "vmax=max(groundtruth_values.max(), values.max())\n",
    "ax[0].imshow(\n",
    "    groundtruth_values, \n",
    "    cmap=\"hot\",\n",
    "    extent=xrange.tolist() + yrange.tolist(),\n",
    "    vmin=vmin,\n",
    "    vmax=vmax\n",
    ")\n",
    "ax[0].scatter(\n",
    "    samples_x, \n",
    "    samples_y, \n",
    "    c=values, \n",
    "    cmap='hot', \n",
    "    edgecolors='black', \n",
    "    linewidths=1,\n",
    "    vmin=vmin,\n",
    "    vmax=vmax\n",
    ")\n",
    "ax[0].set_title(\"Ground truth value\")\n",
    "\n",
    "vmin=min(predicted_values.min(), values.min())\n",
    "vmax=max(predicted_values.max(), values.max())\n",
    "ax[1].imshow(\n",
    "    predicted_values, \n",
    "    cmap=\"hot\",\n",
    "    extent=xrange.tolist() + yrange.tolist(),\n",
    "    vmin=vmin,\n",
    "    vmax=vmax\n",
    ")\n",
    "ax[1].scatter(\n",
    "    samples_x, \n",
    "    samples_y, \n",
    "    c=values, \n",
    "    cmap='hot', \n",
    "    edgecolors='black', \n",
    "    linewidths=1,\n",
    "    vmin=vmin,\n",
    "    vmax=vmax\n",
    ")\n",
    "ax[1].set_title(\"Predicted value with sparse model\")\n",
    "fig.tight_layout()"
   ]
  },
  {
   "cell_type": "markdown",
   "metadata": {},
   "source": [
    "### Relevance Vector Non Linear"
   ]
  },
  {
   "cell_type": "code",
   "execution_count": null,
   "metadata": {},
   "outputs": [],
   "source": [
    "gt_non_lin_func = lambda x: 1.5 * np.sin(x ** 2) + np.cos(x ** 3)\n",
    "\n",
    "xmin, xmax = 0, 3.05\n",
    "xrange = np.linspace(xmin, xmax, 1000)\n",
    "\n",
    "rng = np.random.default_rng(seed=12345)\n",
    "nsamples = 50\n",
    "samples_x = rng.uniform(xmin, 0.75*xmax, int(0.8*nsamples))\n",
    "samples_x = np.concatenate(\n",
    "    [samples_x, rng.uniform(0.75*xmax, xmax, nsamples - int(0.8*nsamples))]\n",
    ")\n",
    "samples_x.sort()\n",
    "\n",
    "samples_y = gt_non_lin_func(samples_x)\n",
    "samples_y += rng.normal(0, 0.5, len(samples_y))"
   ]
  },
  {
   "cell_type": "code",
   "execution_count": null,
   "metadata": {},
   "outputs": [],
   "source": [
    "relevance_vector_reg = RelevanceVectorRegression(\n",
    "    nu = 1e-7,\n",
    "    lam = 0.3,\n",
    "    thresh=1000\n",
    ")\n",
    "relevance_vector_reg.fit(samples_x, samples_y)"
   ]
  },
  {
   "cell_type": "code",
   "execution_count": null,
   "metadata": {},
   "outputs": [],
   "source": [
    "xrange = np.array([-0.1, 3.1])\n",
    "yrange = np.array([-4.0, 3.0])\n",
    "\n",
    "grid_size = 1000\n",
    "grid_x, grid_y = np.meshgrid(\n",
    "    np.linspace(xrange[0] , xrange[1] , grid_size),\n",
    "    np.linspace(yrange[0] , yrange[1] , grid_size),\n",
    "    indexing=\"xy\"\n",
    ")\n",
    "\n",
    "grid_x = grid_x.flatten()\n",
    "grid_y = grid_y.flatten()\n",
    "\n",
    "relevance_vector_likelihood = relevance_vector_reg.likelihood(grid_x, grid_y)\n",
    "relevance_vector_likelihood = relevance_vector_likelihood.reshape((grid_size, grid_size))"
   ]
  },
  {
   "cell_type": "code",
   "execution_count": null,
   "metadata": {},
   "outputs": [],
   "source": [
    "fig, ax = plt.subplots(1, 1)\n",
    "ax.imshow(\n",
    "    relevance_vector_likelihood,\n",
    "    cmap=\"hot\",\n",
    "    extent=[xrange[0], xrange[1], yrange[0], yrange[1]],\n",
    "    origin='lower',\n",
    "    aspect='auto',\n",
    ")\n",
    "ax.plot(\n",
    "    np.linspace(xrange[0], xrange[1], 1000),\n",
    "    relevance_vector_reg.predict(np.linspace(xrange[0], xrange[1], 1000)),\n",
    "    c=\"r\"\n",
    ")\n",
    "ax.scatter(\n",
    "    samples_x[relevance_vector_reg.tokeep], \n",
    "    samples_y[relevance_vector_reg.tokeep], \n",
    "    s=70, \n",
    "    c=\"green\", \n",
    "    edgecolors=\"w\"\n",
    ")\n",
    "ax.scatter(\n",
    "    samples_x[~relevance_vector_reg.tokeep], \n",
    "    samples_y[~relevance_vector_reg.tokeep],\n",
    "    s=2, \n",
    "    c=\"blue\"\n",
    ")\n",
    "fig.tight_layout()"
   ]
  }
 ],
 "metadata": {
  "kernelspec": {
   "display_name": "cv-prince-YM7UBAsG-py3.12",
   "language": "python",
   "name": "python3"
  },
  "language_info": {
   "codemirror_mode": {
    "name": "ipython",
    "version": 3
   },
   "file_extension": ".py",
   "mimetype": "text/x-python",
   "name": "python",
   "nbconvert_exporter": "python",
   "pygments_lexer": "ipython3",
   "version": "3.12.8"
  }
 },
 "nbformat": 4,
 "nbformat_minor": 2
}
