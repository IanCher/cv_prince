{
 "cells": [
  {
   "cell_type": "code",
   "execution_count": null,
   "id": "77ab4282",
   "metadata": {},
   "outputs": [],
   "source": [
    "import numpy as np \n",
    "from sklearn import datasets\n",
    "import matplotlib.pyplot as plt\n",
    "from scipy.optimize import minimize\n",
    "from sklearn.linear_model import LogisticRegression\n",
    "from sklearn.inspection import DecisionBoundaryDisplay"
   ]
  },
  {
   "cell_type": "code",
   "execution_count": null,
   "id": "e5dc9890",
   "metadata": {},
   "outputs": [],
   "source": [
    "def sigmoid(array: np.ndarray) -> np.ndarray:\n",
    "    sign = np.sign(array)\n",
    "    exp = np.exp(-sign * array)\n",
    "\n",
    "    num = np.where(sign < 0, exp, 1)\n",
    "    den = 1 + exp\n",
    "\n",
    "    return num / den"
   ]
  },
  {
   "cell_type": "code",
   "execution_count": null,
   "id": "1dcd34c6",
   "metadata": {},
   "outputs": [],
   "source": [
    "iris = datasets.load_iris()\n",
    "samples = iris.data[:, :2]  # we only take the first two features.\n",
    "gt_classes = iris.target"
   ]
  },
  {
   "cell_type": "code",
   "execution_count": null,
   "id": "928c5167",
   "metadata": {},
   "outputs": [],
   "source": [
    "fig, ax = plt.subplots(1, 1, figsize=(7, 5))\n",
    "for label in np.unique(gt_classes):\n",
    "    ax.scatter(\n",
    "        samples[gt_classes==label, 0], \n",
    "        samples[gt_classes==label, 1], \n",
    "        label=iris.target_names[label]\n",
    "    )\n",
    "ax.legend()"
   ]
  },
  {
   "cell_type": "code",
   "execution_count": null,
   "id": "cd792c0b",
   "metadata": {},
   "outputs": [],
   "source": [
    "logreg = LogisticRegression(solver=\"newton-cg\")\n",
    "logreg.fit(samples, (gt_classes.copy() == 0).astype(int))\n",
    "\n",
    "fig, ax = plt.subplots(1, 1, figsize=(7, 5))\n",
    "DecisionBoundaryDisplay.from_estimator(\n",
    "    logreg,\n",
    "    samples,\n",
    "    cmap=plt.cm.Paired,\n",
    "    ax=ax,\n",
    "    response_method=\"predict\",\n",
    "    plot_method=\"pcolormesh\",\n",
    "    shading=\"auto\",\n",
    "    xlabel=\"Sepal length\",\n",
    "    ylabel=\"Sepal width\",\n",
    "    eps=0.5,\n",
    ")\n",
    "\n",
    "for label in np.unique(gt_classes):\n",
    "    ax.scatter(\n",
    "        samples[gt_classes==label, 0], \n",
    "        samples[gt_classes==label, 1], \n",
    "        label=iris.target_names[label]\n",
    "    )\n",
    "ax.legend()"
   ]
  },
  {
   "cell_type": "markdown",
   "id": "ad35fe53",
   "metadata": {},
   "source": [
    "### Maximum Likelihood"
   ]
  },
  {
   "cell_type": "code",
   "execution_count": null,
   "id": "a9d30993",
   "metadata": {},
   "outputs": [],
   "source": [
    "nsamples = samples.shape[0]\n",
    "X = np.concat([samples.T, np.ones((1, nsamples))], axis=0)\n",
    "W = gt_classes.copy() == 0\n",
    "W = W.astype(int)\n",
    "one_minus_W = 1 - W\n",
    "XXT = np.einsum(\"ij, kj -> ikj\", X, X)"
   ]
  },
  {
   "cell_type": "code",
   "execution_count": null,
   "id": "4e33fe8f",
   "metadata": {},
   "outputs": [],
   "source": [
    "def objective(phi: np.ndarray) -> np.ndarray:\n",
    "    phi_X = np.dot(phi, X)\n",
    "\n",
    "    sign = np.sign(phi_X)\n",
    "    exp = np.exp(-sign * phi_X)\n",
    "    log1pexp = np.log1p(exp)\n",
    "\n",
    "    obj = one_minus_W * phi_X\n",
    "    obj += np.where(sign >= 0, log1pexp, log1pexp - phi_X)\n",
    "\n",
    "    return np.sum(obj) / nsamples\n",
    "\n",
    "def objective_prime(phi: np.ndarray) -> np.ndarray:\n",
    "    sig_minus_W = sigmoid(np.dot(phi, X)) - W\n",
    "    return np.einsum(\"j, ij -> i\", sig_minus_W, X) / nsamples\n",
    "\n",
    "def objective_second(phi: np.ndarray) -> np.ndarray:\n",
    "    sig_phi_X = sigmoid(np.dot(phi, X))\n",
    "    return np.einsum(\"k, ijk -> ij\", sig_phi_X * (1 - sig_phi_X), XXT) / nsamples"
   ]
  },
  {
   "cell_type": "code",
   "execution_count": null,
   "id": "15b81d43",
   "metadata": {},
   "outputs": [],
   "source": [
    "opt_results = minimize(\n",
    "    fun=objective,\n",
    "    x0=np.full((X.shape[0],), 0),\n",
    "    method=\"Newton-CG\",\n",
    "    jac=objective_prime,\n",
    "    hess=objective_second,\n",
    "    options={\"maxiter\": 100},\n",
    ")\n",
    "print(opt_results)\n",
    "\n",
    "phi_opt = opt_results.x"
   ]
  },
  {
   "cell_type": "code",
   "execution_count": null,
   "id": "2d7d1255",
   "metadata": {},
   "outputs": [],
   "source": [
    "xrange = np.array([0, 8])\n",
    "yrange = - (phi_opt[0] * xrange + phi_opt[2]) / phi_opt[1]"
   ]
  },
  {
   "cell_type": "code",
   "execution_count": null,
   "id": "e929ca36",
   "metadata": {},
   "outputs": [],
   "source": [
    "grid_x, grid_y = np.meshgrid(\n",
    "    np.linspace(xrange[0], xrange[1], 1000),\n",
    "    np.linspace(yrange[0], yrange[1], 1000),\n",
    "    indexing=\"xy\"\n",
    ")\n",
    "grid_coords = np.stack([grid_x, grid_y, np.ones_like(grid_x)], axis=-1)\n",
    "activations = grid_coords @ phi_opt\n",
    "likelihood = sigmoid(activations)"
   ]
  },
  {
   "cell_type": "code",
   "execution_count": null,
   "id": "8748afac",
   "metadata": {},
   "outputs": [],
   "source": [
    "fig, ax = plt.subplots(1, 1, figsize=(7, 5))\n",
    "ax.imshow(\n",
    "    likelihood,\n",
    "    cmap=\"hot\",\n",
    "    extent=[xrange[0], xrange[1], yrange[0], yrange[1]],\n",
    "    origin=\"lower\",\n",
    "    aspect=\"auto\",\n",
    ")\n",
    "for label in np.unique(gt_classes):\n",
    "    ax.scatter(\n",
    "        samples[gt_classes==label, 0], \n",
    "        samples[gt_classes==label, 1], \n",
    "        label=iris.target_names[label]\n",
    "    )\n",
    "ax.plot(xrange, yrange, \"r\")\n",
    "ax.set_xlim(samples[:, 0].min()-0.1, samples[:, 0].max()+0.1)\n",
    "ax.set_ylim(samples[:, 1].min()-0.1, samples[:, 1].max()+0.1)\n",
    "ax.legend()"
   ]
  },
  {
   "cell_type": "code",
   "execution_count": null,
   "id": "eadc0cbd",
   "metadata": {},
   "outputs": [],
   "source": []
  }
 ],
 "metadata": {
  "kernelspec": {
   "display_name": "cv-prince-YM7UBAsG-py3.12",
   "language": "python",
   "name": "python3"
  },
  "language_info": {
   "codemirror_mode": {
    "name": "ipython",
    "version": 3
   },
   "file_extension": ".py",
   "mimetype": "text/x-python",
   "name": "python",
   "nbconvert_exporter": "python",
   "pygments_lexer": "ipython3",
   "version": "3.12.8"
  }
 },
 "nbformat": 4,
 "nbformat_minor": 5
}
